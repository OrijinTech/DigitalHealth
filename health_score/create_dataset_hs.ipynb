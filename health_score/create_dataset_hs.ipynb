{
 "cells": [
  {
   "cell_type": "markdown",
   "id": "de4ba512-7190-4bc3-8b90-3a962d82dc4c",
   "metadata": {},
   "source": [
    "# Create Dataset - Health Score"
   ]
  },
  {
   "cell_type": "markdown",
   "id": "bc16e26d-fae6-4688-90ce-898f8787a2c6",
   "metadata": {},
   "source": [
    "### DATASET:\n",
    "https://www.kaggle.com/datasets/harishkumardatalab/food-image-classification-dataset?resource=download"
   ]
  },
  {
   "cell_type": "markdown",
   "id": "e2d35bfb-270c-43a4-be34-42936a8edfed",
   "metadata": {},
   "source": [
    "### Imports"
   ]
  },
  {
   "cell_type": "code",
   "execution_count": 1,
   "id": "da221c24-677a-4b1a-a7db-afb1014fb022",
   "metadata": {
    "tags": []
   },
   "outputs": [],
   "source": [
    "import torch\n",
    "from torch import nn\n",
    "from torch.utils.data import Dataset, DataLoader, random_split\n",
    "from torchvision import datasets, transforms\n",
    "import cv2\n",
    "import numpy as np\n",
    "import csv\n",
    "import os\n",
    "from sklearn.model_selection import train_test_split\n",
    "from PIL import Image\n",
    "from IPython.display import display\n",
    "import pandas as pd\n",
    "import matplotlib.pyplot as plt\n",
    "%matplotlib inline\n",
    "import matplotlib.image as mpimg\n",
    "import warnings\n",
    "import shutil # for copying files\n",
    "warnings.filterwarnings('ignore')\n",
    "\n"
   ]
  },
  {
   "cell_type": "code",
   "execution_count": 2,
   "id": "9e366206-c8af-46dc-be8e-94b692b1c799",
   "metadata": {
    "tags": []
   },
   "outputs": [],
   "source": [
    "# Get all food type folder names and assign each a health score of 1 or 0\n",
    "\n",
    "path = '/Users/mushr/Programming/AI_Projects/Digital_Health/food_dataset_hs/'\n",
    "food_type_folders = sorted(os.listdir(path))\n",
    "\n",
    "food_type_health_level = {'Baked Potato': 1, 'Crispy Chicken': 0, 'Donut': 0, 'Fries': 0, 'Hot Dog': 0, 'Sandwich': 1, 'Taco': 1, 'Taquito': 0,\n",
    "                          'apple_pie': 0, 'burger': 0, 'butter_naan': 0, 'chai': 1, 'chapati': 1, 'cheesecake': 0, 'chicken_curry': 1, 'chole_bhature': 0,\n",
    "                          'dal_makhani': 1, 'dhokla': 1, 'fried_rice': 1, 'ice_cream': 0, 'idli': 1, 'jalebi': 0, 'kaathi_rolls': 1, 'kadai_paneer': 1, \n",
    "                          'kulfi': 0, 'masala_dosa': 1, 'momos': 1, 'omelette': 1, 'paani_puri': 0, 'pakode': 0, 'pav_bhaji': 1, 'pizza': 0, 'samosa': 0, 'sushi': 1}"
   ]
  },
  {
   "cell_type": "code",
   "execution_count": 4,
   "id": "470d879a-df2f-4eb5-9e88-943e6e6bcad4",
   "metadata": {
    "tags": []
   },
   "outputs": [],
   "source": [
    "food_paths = [] # have duplicates\n",
    "food_health_scores = []\n",
    "food_names = []\n",
    "i = 0\n",
    "\n",
    "df = pd.DataFrame(columns=['food_name', 'food_img_path', 'health_code'])\n",
    "\n",
    "for food_type in food_type_health_level:\n",
    "    health_score = food_type_health_level[food_type]\n",
    "    food_type_path = '/Users/mushr/Programming/AI_Projects/Digital_Health/food_dataset_hs/' + food_type\n",
    "    foods_list = sorted(os.listdir(food_type_path))\n",
    "    for food in foods_list:\n",
    "        p = '/Users/mushr/Programming/AI_Projects/Digital_Health/food_dataset_hs/' + food_type + \"/\" + food\n",
    "        if food not in food_names:\n",
    "            food_paths.append(p)\n",
    "            food_health_scores.append(health_score)\n",
    "            food_names.append(food)\n",
    "        shutil.copy2(p, '/Users/mushr/Programming/AI_Projects/Digital_Health/food_dataset_hs2/') # copy the file to another folder\n",
    "        i+=1\n",
    "\n",
    "dc = {'food_name': food_names, 'food_img_path': food_paths, 'health_code': food_health_scores} \n",
    "    \n",
    "df = pd.DataFrame(dc)\n",
    "\n",
    "# CSV format:  [index ; food name ; path ; code]\n",
    "df.to_csv('/Users/mushr/Programming/AI_Projects/Digital_Health/health_score/health_score_dataset')\n"
   ]
  },
  {
   "cell_type": "code",
   "execution_count": 22,
   "id": "bd1f4b23-046a-4a00-b34b-1ad019a2be2e",
   "metadata": {
    "tags": []
   },
   "outputs": [],
   "source": [
    "df['food_name'] = df['food_name'].apply(lambda x: x.replace('.jpeg', '.jpg'))\n",
    "df['food_img_path'] = df['food_img_path'].apply(lambda x: x.replace('.jpeg', '.jpg'))\n",
    "folder_path = '/Users/mushr/Programming/AI_Projects/Digital_Health/food_dataset_hs/'\n",
    "df_filtered = df[df['food_name'].apply(lambda x: os.path.exists(os.path.join(folder_path, x)))]\n",
    "\n",
    "df_filtered.to_csv('/Users/mushr/Programming/AI_Projects/Digital_Health/health_score/health_score_dataset')\n"
   ]
  },
  {
   "cell_type": "code",
   "execution_count": 5,
   "id": "685e7fdb-eb63-4104-a5c1-d3d57da4fe94",
   "metadata": {
    "tags": []
   },
   "outputs": [
    {
     "data": {
      "text/plain": [
       "18502"
      ]
     },
     "execution_count": 5,
     "metadata": {},
     "output_type": "execute_result"
    }
   ],
   "source": [
    "l1 = set(os.listdir('/Users/mushr/Programming/AI_Projects/Digital_Health/food_dataset_hs_old'))\n",
    "len(l1)"
   ]
  },
  {
   "cell_type": "code",
   "execution_count": 5,
   "id": "993bfa18-12bb-49ac-bfa7-ff2c9826516a",
   "metadata": {
    "tags": []
   },
   "outputs": [],
   "source": [
    "# Convert all images to .jpg\n",
    "img_files = sorted(os.listdir('/Users/mushr/Programming/AI_Projects/Digital_Health/food_dataset_hs/'))\n",
    "if img_files[0] == '.ipynb_checkpoint':\n",
    "    img_files.pop(0)\n",
    "\n",
    "i = 0\n",
    "# TODO: FIND OUT WHY IS THIS NOT WORKING, some how result folder has less pictures\n",
    "# for f in img_files:\n",
    "#     im = Image.open('/Users/mushr/Programming/AI_Projects/Digital_Health/food_dataset_hs/' + f)\n",
    "#     f_name = f.split('.')[0]\n",
    "#     im = im.convert('RGB')\n",
    "#     im.save('/Users/mushr/Programming/AI_Projects/Digital_Health/food_dataset_hs_jpg/'+f_name+'.jpg')\n",
    "#     i+=1\n",
    "\n",
    "for f in img_files:\n",
    "    try:\n",
    "        im = Image.open('/Users/mushr/Programming/AI_Projects/Digital_Health/food_dataset_hs/' + f)\n",
    "        f_name = f.split('.')[0]\n",
    "        im = im.convert('RGB')\n",
    "        im.save(os.path.join('/Users/mushr/Programming/AI_Projects/Digital_Health/food_dataset_hs_jpg', f_name + '.jpg'))\n",
    "        i += 1\n",
    "    except Exception as e:\n",
    "        print(f\"Error processing {f}: {e}\")"
   ]
  },
  {
   "cell_type": "code",
   "execution_count": 13,
   "id": "64c7f380-fd66-415e-bba1-369d6ccdfde9",
   "metadata": {
    "tags": []
   },
   "outputs": [
    {
     "data": {
      "text/plain": [
       "18283"
      ]
     },
     "execution_count": 13,
     "metadata": {},
     "output_type": "execute_result"
    }
   ],
   "source": [
    "l2 = os.listdir('/Users/mushr/Programming/AI_Projects/Digital_Health/food_dataset_hs')\n",
    "len(l2)"
   ]
  },
  {
   "cell_type": "code",
   "execution_count": 7,
   "id": "be7ef3e1-c851-45b2-9bb3-6edcabccfbbf",
   "metadata": {
    "tags": []
   },
   "outputs": [
    {
     "data": {
      "text/html": [
       "<div>\n",
       "<style scoped>\n",
       "    .dataframe tbody tr th:only-of-type {\n",
       "        vertical-align: middle;\n",
       "    }\n",
       "\n",
       "    .dataframe tbody tr th {\n",
       "        vertical-align: top;\n",
       "    }\n",
       "\n",
       "    .dataframe thead th {\n",
       "        text-align: right;\n",
       "    }\n",
       "</style>\n",
       "<table border=\"1\" class=\"dataframe\">\n",
       "  <thead>\n",
       "    <tr style=\"text-align: right;\">\n",
       "      <th></th>\n",
       "      <th>food_name</th>\n",
       "      <th>food_img_path</th>\n",
       "      <th>health_code</th>\n",
       "    </tr>\n",
       "  </thead>\n",
       "  <tbody>\n",
       "    <tr>\n",
       "      <th>0</th>\n",
       "      <td>Baked Potato-Train (1).jpeg</td>\n",
       "      <td>/Users/mushr/Programming/AI_Projects/Digital_H...</td>\n",
       "      <td>1</td>\n",
       "    </tr>\n",
       "    <tr>\n",
       "      <th>1</th>\n",
       "      <td>Baked Potato-Train (10).jpeg</td>\n",
       "      <td>/Users/mushr/Programming/AI_Projects/Digital_H...</td>\n",
       "      <td>1</td>\n",
       "    </tr>\n",
       "    <tr>\n",
       "      <th>2</th>\n",
       "      <td>Baked Potato-Train (100).jpeg</td>\n",
       "      <td>/Users/mushr/Programming/AI_Projects/Digital_H...</td>\n",
       "      <td>1</td>\n",
       "    </tr>\n",
       "    <tr>\n",
       "      <th>3</th>\n",
       "      <td>Baked Potato-Train (1000).jpeg</td>\n",
       "      <td>/Users/mushr/Programming/AI_Projects/Digital_H...</td>\n",
       "      <td>1</td>\n",
       "    </tr>\n",
       "    <tr>\n",
       "      <th>4</th>\n",
       "      <td>Baked Potato-Train (1001).jpeg</td>\n",
       "      <td>/Users/mushr/Programming/AI_Projects/Digital_H...</td>\n",
       "      <td>1</td>\n",
       "    </tr>\n",
       "    <tr>\n",
       "      <th>...</th>\n",
       "      <td>...</td>\n",
       "      <td>...</td>\n",
       "      <td>...</td>\n",
       "    </tr>\n",
       "    <tr>\n",
       "      <th>18506</th>\n",
       "      <td>988559.jpg</td>\n",
       "      <td>/Users/mushr/Programming/AI_Projects/Digital_H...</td>\n",
       "      <td>1</td>\n",
       "    </tr>\n",
       "    <tr>\n",
       "      <th>18507</th>\n",
       "      <td>996528.jpg</td>\n",
       "      <td>/Users/mushr/Programming/AI_Projects/Digital_H...</td>\n",
       "      <td>1</td>\n",
       "    </tr>\n",
       "    <tr>\n",
       "      <th>18508</th>\n",
       "      <td>998971.jpg</td>\n",
       "      <td>/Users/mushr/Programming/AI_Projects/Digital_H...</td>\n",
       "      <td>1</td>\n",
       "    </tr>\n",
       "    <tr>\n",
       "      <th>18509</th>\n",
       "      <td>999858.jpg</td>\n",
       "      <td>/Users/mushr/Programming/AI_Projects/Digital_H...</td>\n",
       "      <td>1</td>\n",
       "    </tr>\n",
       "    <tr>\n",
       "      <th>18510</th>\n",
       "      <td>99997.jpg</td>\n",
       "      <td>/Users/mushr/Programming/AI_Projects/Digital_H...</td>\n",
       "      <td>1</td>\n",
       "    </tr>\n",
       "  </tbody>\n",
       "</table>\n",
       "<p>18511 rows × 3 columns</p>\n",
       "</div>"
      ],
      "text/plain": [
       "                            food_name  \\\n",
       "0         Baked Potato-Train (1).jpeg   \n",
       "1        Baked Potato-Train (10).jpeg   \n",
       "2       Baked Potato-Train (100).jpeg   \n",
       "3      Baked Potato-Train (1000).jpeg   \n",
       "4      Baked Potato-Train (1001).jpeg   \n",
       "...                               ...   \n",
       "18506                      988559.jpg   \n",
       "18507                      996528.jpg   \n",
       "18508                      998971.jpg   \n",
       "18509                      999858.jpg   \n",
       "18510                       99997.jpg   \n",
       "\n",
       "                                           food_img_path  health_code  \n",
       "0      /Users/mushr/Programming/AI_Projects/Digital_H...            1  \n",
       "1      /Users/mushr/Programming/AI_Projects/Digital_H...            1  \n",
       "2      /Users/mushr/Programming/AI_Projects/Digital_H...            1  \n",
       "3      /Users/mushr/Programming/AI_Projects/Digital_H...            1  \n",
       "4      /Users/mushr/Programming/AI_Projects/Digital_H...            1  \n",
       "...                                                  ...          ...  \n",
       "18506  /Users/mushr/Programming/AI_Projects/Digital_H...            1  \n",
       "18507  /Users/mushr/Programming/AI_Projects/Digital_H...            1  \n",
       "18508  /Users/mushr/Programming/AI_Projects/Digital_H...            1  \n",
       "18509  /Users/mushr/Programming/AI_Projects/Digital_H...            1  \n",
       "18510  /Users/mushr/Programming/AI_Projects/Digital_H...            1  \n",
       "\n",
       "[18511 rows x 3 columns]"
      ]
     },
     "execution_count": 7,
     "metadata": {},
     "output_type": "execute_result"
    }
   ],
   "source": [
    "df"
   ]
  }
 ],
 "metadata": {
  "kernelspec": {
   "display_name": "Python 3 (ipykernel)",
   "language": "python",
   "name": "python3"
  },
  "language_info": {
   "codemirror_mode": {
    "name": "ipython",
    "version": 3
   },
   "file_extension": ".py",
   "mimetype": "text/x-python",
   "name": "python",
   "nbconvert_exporter": "python",
   "pygments_lexer": "ipython3",
   "version": "3.11.5"
  }
 },
 "nbformat": 4,
 "nbformat_minor": 5
}
